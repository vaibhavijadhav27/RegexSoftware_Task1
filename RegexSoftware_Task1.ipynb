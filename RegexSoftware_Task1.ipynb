{
  "nbformat": 4,
  "nbformat_minor": 0,
  "metadata": {
    "colab": {
      "name": "RegexSoftware_Task1.ipynb",
      "provenance": [],
      "collapsed_sections": []
    },
    "kernelspec": {
      "name": "python3",
      "display_name": "Python 3"
    },
    "language_info": {
      "name": "python"
    }
  },
  "cells": [
    {
      "cell_type": "markdown",
      "metadata": {
        "id": "hAYzpn1D6hTz"
      },
      "source": [
        "# **#TASK 1**\n",
        "# **Registration ID: SIRSS2278**\n",
        "# **Name: Vaibhavi Jadhav**"
      ]
    },
    {
      "cell_type": "markdown",
      "metadata": {
        "id": "NRIGgzDmGHU2"
      },
      "source": [
        "##**Q1**"
      ]
    },
    {
      "cell_type": "markdown",
      "metadata": {
        "id": "RurU4uYkoFdC"
      },
      "source": [
        "\n",
        "\n",
        "```\n",
        "5 5 5 5 5\n",
        "5 5 5 5\n",
        "5 5 5\n",
        "5 5\n",
        "5\n",
        "```\n",
        "\n"
      ]
    },
    {
      "cell_type": "code",
      "metadata": {
        "id": "HhS5_bd3oXNT",
        "colab": {
          "base_uri": "https://localhost:8080/"
        },
        "outputId": "bb8ea935-f55c-4f96-e240-8d6054838eb6"
      },
      "source": [
        "n=int(input())\n",
        "for i in range(n,0,-1):\n",
        "  for j in range(0,i):\n",
        "    print(\"5\", end=\" \")\n",
        "  print()\n"
      ],
      "execution_count": null,
      "outputs": [
        {
          "output_type": "stream",
          "text": [
            "5\n",
            "5 5 5 5 5 \n",
            "5 5 5 5 \n",
            "5 5 5 \n",
            "5 5 \n",
            "5 \n"
          ],
          "name": "stdout"
        }
      ]
    },
    {
      "cell_type": "markdown",
      "metadata": {
        "id": "IsfcjqaDGNmg"
      },
      "source": [
        "##**Q2**"
      ]
    },
    {
      "cell_type": "markdown",
      "metadata": {
        "id": "k5GQGi2nr2in"
      },
      "source": [
        "\n",
        "\n",
        "```\n",
        "0 1 2 3 4 5\n",
        "0 1 2 3 4\n",
        "0 1 2 3\n",
        "0 1 2\n",
        "0 1\n",
        "```\n",
        "\n"
      ]
    },
    {
      "cell_type": "code",
      "metadata": {
        "colab": {
          "base_uri": "https://localhost:8080/"
        },
        "id": "CnUzDdZwtB-D",
        "outputId": "264f635b-d90c-49df-e661-c94b05362270"
      },
      "source": [
        "n=int(input())\n",
        "for i in range(n+1,0,-1):\n",
        "  for j in range(0,i):\n",
        "    print(j, end=\" \")\n",
        "  if(i==n-3):\n",
        "      break\n",
        "  print()\n"
      ],
      "execution_count": null,
      "outputs": [
        {
          "output_type": "stream",
          "text": [
            "5\n",
            "0 1 2 3 4 5 \n",
            "0 1 2 3 4 \n",
            "0 1 2 3 \n",
            "0 1 2 \n",
            "0 1 "
          ],
          "name": "stdout"
        }
      ]
    },
    {
      "cell_type": "markdown",
      "metadata": {
        "id": "CmVxFbmJGTgl"
      },
      "source": [
        "##**Q3**"
      ]
    },
    {
      "cell_type": "markdown",
      "metadata": {
        "id": "7yvGQAU_yhF0"
      },
      "source": [
        "\n",
        "\n",
        "```\n",
        "1\n",
        "3 3\n",
        "5 5 5\n",
        "7 7 7 7\n",
        "9 9 9 9 9\n",
        "\n",
        "```\n",
        "\n"
      ]
    },
    {
      "cell_type": "code",
      "metadata": {
        "colab": {
          "base_uri": "https://localhost:8080/"
        },
        "id": "93zUJlK5yoJc",
        "outputId": "f7123061-de58-49d5-a203-1ef32c56ccb8"
      },
      "source": [
        "n=int(input())\n",
        "for i in range(0,n+1):\n",
        "  for j in range(0,i):\n",
        "    print(2*i-1, end=\" \")\n",
        "  print()\n"
      ],
      "execution_count": null,
      "outputs": [
        {
          "output_type": "stream",
          "text": [
            "5\n",
            "\n",
            "1 \n",
            "3 3 \n",
            "5 5 5 \n",
            "7 7 7 7 \n",
            "9 9 9 9 9 \n"
          ],
          "name": "stdout"
        }
      ]
    },
    {
      "cell_type": "markdown",
      "metadata": {
        "id": "OXvbqlNgGY3g"
      },
      "source": [
        "##**Q4**"
      ]
    },
    {
      "cell_type": "markdown",
      "metadata": {
        "id": "R7ACBVo3zCdH"
      },
      "source": [
        "\n",
        "\n",
        "```\n",
        "1\n",
        "2 1\n",
        "3 2 1\n",
        "4 3 2 1\n",
        "5 4 3 2 1\n",
        "```\n",
        "\n"
      ]
    },
    {
      "cell_type": "code",
      "metadata": {
        "colab": {
          "base_uri": "https://localhost:8080/"
        },
        "id": "wVnMR-wfzJOU",
        "outputId": "e6f1a7db-3194-40b4-851f-60174cc35e67"
      },
      "source": [
        "n=int(input())\n",
        "for i in range(0,n+1):\n",
        "  for j in range(i,0,-1):\n",
        "    print(j, end=\" \")\n",
        "  print()\n"
      ],
      "execution_count": null,
      "outputs": [
        {
          "output_type": "stream",
          "text": [
            "5\n",
            "\n",
            "1 \n",
            "2 1 \n",
            "3 2 1 \n",
            "4 3 2 1 \n",
            "5 4 3 2 1 \n"
          ],
          "name": "stdout"
        }
      ]
    },
    {
      "cell_type": "markdown",
      "metadata": {
        "id": "C05cByW9GfDS"
      },
      "source": [
        "##**Q5**"
      ]
    },
    {
      "cell_type": "markdown",
      "metadata": {
        "id": "oJT_alPGzrUd"
      },
      "source": [
        "\n",
        "\n",
        "```\n",
        "1\n",
        "3 2\n",
        "6 5 4\n",
        "10 9 8 7\n",
        "```\n",
        "\n"
      ]
    },
    {
      "cell_type": "code",
      "metadata": {
        "colab": {
          "base_uri": "https://localhost:8080/"
        },
        "id": "q15LWCvkzuZl",
        "outputId": "e46738d7-dfee-4608-d7d4-ebc2bb0250c7"
      },
      "source": [
        "start = 1\n",
        "stop = 2\n",
        "current_num = stop\n",
        "for row in range(2, 6):\n",
        "    for col in range(start, stop):\n",
        "        current_num -= 1\n",
        "        print(current_num, end=' ')\n",
        "    print(\"\")\n",
        "    start = stop\n",
        "    stop += row\n",
        "    current_num = stop"
      ],
      "execution_count": null,
      "outputs": [
        {
          "output_type": "stream",
          "text": [
            "1 \n",
            "3 2 \n",
            "6 5 4 \n",
            "10 9 8 7 \n"
          ],
          "name": "stdout"
        }
      ]
    },
    {
      "cell_type": "markdown",
      "metadata": {
        "id": "epHor5r_I0NY"
      },
      "source": [
        "##**Q6**"
      ]
    },
    {
      "cell_type": "markdown",
      "metadata": {
        "id": "TO5E5QKlI55C"
      },
      "source": [
        "\n",
        "\n",
        "```\n",
        "1\n",
        "1 1\n",
        "1 2 1\n",
        "1 3 3 1\n",
        "1 4 6 4 1\n",
        "1 5 10 10 5 1\n",
        "1 6 15 20 15 6 1\n",
        "```\n",
        "\n"
      ]
    },
    {
      "cell_type": "code",
      "metadata": {
        "id": "Zo3ukLUiJBiS",
        "colab": {
          "base_uri": "https://localhost:8080/"
        },
        "outputId": "a7979f2e-5424-4e62-b040-4fcdbfcf58ef"
      },
      "source": [
        "def pascal(row,col):\n",
        "  if (col==1 or(row==col)):\n",
        "    return 1\n",
        "  upLeft_element=pascal(row-1,col-1)\n",
        "  up_element=pascal(row-1,col)\n",
        "  return upLeft_element+up_element\n",
        "\n",
        "n=int(input())\n",
        "count=1\n",
        "for i in range(0,n):\n",
        "  for j in range(1,i+1):\n",
        "    print(pascal(i,j), end=\" \")\n",
        "  print()\n"
      ],
      "execution_count": null,
      "outputs": [
        {
          "output_type": "stream",
          "text": [
            "8\n",
            "\n",
            "1 \n",
            "1 1 \n",
            "1 2 1 \n",
            "1 3 3 1 \n",
            "1 4 6 4 1 \n",
            "1 5 10 10 5 1 \n",
            "1 6 15 20 15 6 1 \n"
          ],
          "name": "stdout"
        }
      ]
    },
    {
      "cell_type": "markdown",
      "metadata": {
        "id": "p8CIg1LttBuE"
      },
      "source": [
        "##**Q7**"
      ]
    },
    {
      "cell_type": "markdown",
      "metadata": {
        "id": "XZHhIwAAmDGj"
      },
      "source": [
        "\n",
        "\n",
        "```\n",
        "1 2 3 4 5\n",
        "2 2 3 4 5\n",
        "3 3 3 4 5\n",
        "4 4 4 4 5\n",
        "5 5 5 5 5\n",
        "```\n",
        "\n"
      ]
    },
    {
      "cell_type": "code",
      "metadata": {
        "colab": {
          "base_uri": "https://localhost:8080/"
        },
        "id": "UvDb6swZmFVL",
        "outputId": "41cac658-b2b0-4f00-937f-0d36ccf14c3c"
      },
      "source": [
        "n=int(input())\n",
        "for i in range(1,n+1):\n",
        "    for j in range(1,n+1):\n",
        "        if j <= i:\n",
        "            print(i, end=' ')\n",
        "        else:\n",
        "            print(j, end=' ')\n",
        "    print()"
      ],
      "execution_count": null,
      "outputs": [
        {
          "output_type": "stream",
          "text": [
            "5\n",
            "1 2 3 4 5 \n",
            "2 2 3 4 5 \n",
            "3 3 3 4 5 \n",
            "4 4 4 4 5 \n",
            "5 5 5 5 5 \n"
          ],
          "name": "stdout"
        }
      ]
    },
    {
      "cell_type": "markdown",
      "metadata": {
        "id": "lRkwWaOitdvl"
      },
      "source": [
        "##**Q8**"
      ]
    },
    {
      "cell_type": "markdown",
      "metadata": {
        "id": "TLZWmdzvtbD-"
      },
      "source": [
        "\n",
        "\n",
        "```\n",
        "1\n",
        "2 4\n",
        "3 6 9\n",
        "4 8 12 16\n",
        "5 10 15 20 25\n",
        "6 12 18 24 30 36\n",
        "7 14 21 28 35 42 49\n",
        "8 16 24 32 40 48 56 64\n",
        "```\n",
        "\n"
      ]
    },
    {
      "cell_type": "code",
      "metadata": {
        "colab": {
          "base_uri": "https://localhost:8080/"
        },
        "id": "EGtpd8qpmx_0",
        "outputId": "2ace870d-6a76-4ccb-8372-b328ad045980"
      },
      "source": [
        "n=int(input())\n",
        "for i in range(1, n + 1):\n",
        "    for j in range(1, i + 1):\n",
        "        print(i * j, end='  ')\n",
        "    print()"
      ],
      "execution_count": null,
      "outputs": [
        {
          "output_type": "stream",
          "text": [
            "8\n",
            "1  \n",
            "2  4  \n",
            "3  6  9  \n",
            "4  8  12  16  \n",
            "5  10  15  20  25  \n",
            "6  12  18  24  30  36  \n",
            "7  14  21  28  35  42  49  \n",
            "8  16  24  32  40  48  56  64  \n"
          ],
          "name": "stdout"
        }
      ]
    },
    {
      "cell_type": "markdown",
      "metadata": {
        "id": "KKDvFRLwtjpJ"
      },
      "source": [
        "##**Q9**"
      ]
    },
    {
      "cell_type": "markdown",
      "metadata": {
        "id": "Kjn6OiMgEmbw"
      },
      "source": [
        "\n",
        "\n",
        "```\n",
        "* * * * * *\n",
        " * * * * *\n",
        "  * * * *\n",
        "   * * *\n",
        "    * *\n",
        "     *\n",
        "```\n",
        "\n"
      ]
    },
    {
      "cell_type": "code",
      "metadata": {
        "colab": {
          "base_uri": "https://localhost:8080/"
        },
        "id": "YyZfjEy2Ey8x",
        "outputId": "6c66f654-c9fb-4bf6-c904-dca2fd3fd18e"
      },
      "source": [
        "n=int(input())\n",
        "space = 2 * n - 2\n",
        "for i in reversed(range(0, n)):\n",
        "    for j in (range(0, space)):\n",
        "        print(end=\" \")\n",
        "    space += 1\n",
        "    for j in (range(0, i + 1)):\n",
        "        print(\"* \", end=' ')\n",
        "    print(\" \")"
      ],
      "execution_count": null,
      "outputs": [
        {
          "output_type": "stream",
          "text": [
            "6\n",
            "          *  *  *  *  *  *   \n",
            "           *  *  *  *  *   \n",
            "            *  *  *  *   \n",
            "             *  *  *   \n",
            "              *  *   \n",
            "               *   \n"
          ],
          "name": "stdout"
        }
      ]
    },
    {
      "cell_type": "markdown",
      "metadata": {
        "id": "gJSiDYNltqM4"
      },
      "source": [
        "##**Q10**"
      ]
    },
    {
      "cell_type": "markdown",
      "metadata": {
        "id": "ZM1J7MSO4YLw"
      },
      "source": [
        "\n",
        "\n",
        "```\n",
        "        *   \n",
        "       *  *   \n",
        "      *  *  *   \n",
        "     *  *  *  *   \n",
        "    *  *  *  *  *   \n",
        "```\n",
        "\n"
      ]
    },
    {
      "cell_type": "code",
      "metadata": {
        "colab": {
          "base_uri": "https://localhost:8080/"
        },
        "id": "r6aaCAE94vgn",
        "outputId": "eb652bc8-d90c-4230-f665-62e08c234567"
      },
      "source": [
        "n=int(input())\n",
        "space = 2 * n - 2\n",
        "for i in range(0, n):\n",
        "    for j in range(0, space):\n",
        "        print(end=\" \")\n",
        "    space -= 1\n",
        "    for j in range(0, i + 1):\n",
        "        print(\"* \", end=' ')\n",
        "    print(\" \")"
      ],
      "execution_count": null,
      "outputs": [
        {
          "output_type": "stream",
          "text": [
            "5\n",
            "        *   \n",
            "       *  *   \n",
            "      *  *  *   \n",
            "     *  *  *  *   \n",
            "    *  *  *  *  *   \n"
          ],
          "name": "stdout"
        }
      ]
    },
    {
      "cell_type": "markdown",
      "metadata": {
        "id": "OV1dyPEcNxRw"
      },
      "source": [
        "##**Q11**"
      ]
    },
    {
      "cell_type": "markdown",
      "metadata": {
        "id": "5LjPhmMI5HZH"
      },
      "source": [
        "\n",
        "\n",
        "```\n",
        "*\n",
        "* *\n",
        "* * *\n",
        "* * * *\n",
        "* * * * *\n",
        "* * * * * *\n",
        "\n",
        "* * * * * *\n",
        "* * * * *\n",
        "* * * *\n",
        "* * *\n",
        "* *\n",
        "*\n",
        "```\n",
        "\n"
      ]
    },
    {
      "cell_type": "code",
      "metadata": {
        "colab": {
          "base_uri": "https://localhost:8080/"
        },
        "id": "cfgKYcncOTSa",
        "outputId": "029b3ace-48ec-4b33-c527-a9d54420ebda"
      },
      "source": [
        "n=int(input())\n",
        "for i in range(0,n+1):\n",
        "  for j in range(0,i):\n",
        "    print(\"*\", end=\" \")\n",
        "  print()\n",
        "print()\n",
        "for i in range(n,0,-1):\n",
        "  for j in range(0,i):\n",
        "    print(\"*\", end=\" \")\n",
        "  print()\n"
      ],
      "execution_count": null,
      "outputs": [
        {
          "output_type": "stream",
          "text": [
            "6\n",
            "\n",
            "* \n",
            "* * \n",
            "* * * \n",
            "* * * * \n",
            "* * * * * \n",
            "* * * * * * \n",
            "\n",
            "* * * * * * \n",
            "* * * * * \n",
            "* * * * \n",
            "* * * \n",
            "* * \n",
            "* \n"
          ],
          "name": "stdout"
        }
      ]
    },
    {
      "cell_type": "markdown",
      "metadata": {
        "id": "jfnunY6iOozp"
      },
      "source": [
        "##**Q12**"
      ]
    },
    {
      "cell_type": "markdown",
      "metadata": {
        "id": "szPJYSoEOzLR"
      },
      "source": [
        "\n",
        "\n",
        "```\n",
        "*\n",
        "* *\n",
        "* * *\n",
        "* * * *\n",
        "* * * * *\n",
        "* * * *\n",
        "* * *\n",
        "* *\n",
        "*\n",
        "```\n",
        "\n"
      ]
    },
    {
      "cell_type": "code",
      "metadata": {
        "colab": {
          "base_uri": "https://localhost:8080/"
        },
        "id": "wmTQAyvfO_z9",
        "outputId": "737f176a-2fdc-420c-b6c2-fe349261aa39"
      },
      "source": [
        "n=int(input())\n",
        "for i in range(0,n):\n",
        "  for j in range(0,i+1):\n",
        "    print(\"*\", end=\" \")\n",
        "  print()\n",
        "for i in range(n+1,0,-1):\n",
        "  for j in range(0,i):\n",
        "    print(\"*\", end=\" \")\n",
        "  print()\n"
      ],
      "execution_count": null,
      "outputs": [
        {
          "output_type": "stream",
          "text": [
            "5\n",
            "* \n",
            "* * \n",
            "* * * \n",
            "* * * * \n",
            "* * * * * \n",
            "* * * * * * \n",
            "* * * * * \n",
            "* * * * \n",
            "* * * \n",
            "* * \n",
            "* \n"
          ],
          "name": "stdout"
        }
      ]
    },
    {
      "cell_type": "markdown",
      "metadata": {
        "id": "d4jc5722t55n"
      },
      "source": [
        "##**Q13**"
      ]
    },
    {
      "cell_type": "markdown",
      "metadata": {
        "id": "3TacV5FujCvz"
      },
      "source": [
        "\n",
        "\n",
        "```\n",
        "        *\n",
        "      * *\n",
        "    * * *\n",
        "  * * * *\n",
        "* * * * *\n",
        "  * * * *\n",
        "    * * *\n",
        "      * *\n",
        "        *\n",
        "```\n",
        "\n"
      ]
    },
    {
      "cell_type": "code",
      "metadata": {
        "colab": {
          "base_uri": "https://localhost:8080/"
        },
        "id": "oEX7yDLOj6SA",
        "outputId": "acac411e-510e-453c-d852-207c6b1878a8"
      },
      "source": [
        "n = int(input())\n",
        "i = 1\n",
        "while i <= n:\n",
        "    j = i\n",
        "    while j < n:\n",
        "        # display space\n",
        "        print(' ', end=' ')\n",
        "        j += 1\n",
        "    k = 1\n",
        "    while k <= i:\n",
        "        print('*', end=' ')\n",
        "        k += 1\n",
        "    print()\n",
        "    i += 1\n",
        "\n",
        "i = n\n",
        "while i >= 1:\n",
        "    j = i\n",
        "    while j <= n:\n",
        "        print(' ', end=' ')\n",
        "        j += 1\n",
        "    k = 1\n",
        "    while k < i:\n",
        "        print('*', end=' ')\n",
        "        k += 1\n",
        "    print('')\n",
        "    i -= 1"
      ],
      "execution_count": null,
      "outputs": [
        {
          "output_type": "stream",
          "text": [
            "5\n",
            "        * \n",
            "      * * \n",
            "    * * * \n",
            "  * * * * \n",
            "* * * * * \n",
            "  * * * * \n",
            "    * * * \n",
            "      * * \n",
            "        * \n",
            "          \n"
          ],
          "name": "stdout"
        }
      ]
    },
    {
      "cell_type": "markdown",
      "metadata": {
        "id": "u5SbLvO5uFly"
      },
      "source": [
        "##**Q14**"
      ]
    },
    {
      "cell_type": "markdown",
      "metadata": {
        "id": "YztMoNfik2Jh"
      },
      "source": [
        "\n",
        "\n",
        "```\n",
        "* * * * *\n",
        " * * * *\n",
        "  * * *\n",
        "   * *\n",
        "    *\n",
        "    *\n",
        "   * *\n",
        "  * * *\n",
        " * * * *\n",
        "* * * * *\n",
        "```\n",
        "\n"
      ]
    },
    {
      "cell_type": "code",
      "metadata": {
        "colab": {
          "base_uri": "https://localhost:8080/"
        },
        "id": "gfj9bjyelAMR",
        "outputId": "fd99c84f-acaa-4140-8014-ed825145a281"
      },
      "source": [
        "n=int(input())\n",
        "i = 0\n",
        "while i <= n - 1:\n",
        "    j = 0\n",
        "    while j < i:\n",
        "        # display space\n",
        "        print('', end=' ')\n",
        "        j += 1\n",
        "    k = i\n",
        "    while k <= n - 1:\n",
        "        print('*', end=' ')\n",
        "        k += 1\n",
        "    print()\n",
        "    i += 1\n",
        "\n",
        "i = n - 1\n",
        "while i >= 0:\n",
        "    j = 0\n",
        "    while j < i:\n",
        "        print('', end=' ')\n",
        "        j += 1\n",
        "    k = i\n",
        "    while k <= n - 1:\n",
        "        print('*', end=' ')\n",
        "        k += 1\n",
        "    print('')\n",
        "    i -= 1"
      ],
      "execution_count": null,
      "outputs": [
        {
          "output_type": "stream",
          "text": [
            "5\n",
            "* * * * * \n",
            " * * * * \n",
            "  * * * \n",
            "   * * \n",
            "    * \n",
            "    * \n",
            "   * * \n",
            "  * * * \n",
            " * * * * \n",
            "* * * * * \n"
          ],
          "name": "stdout"
        }
      ]
    },
    {
      "cell_type": "markdown",
      "metadata": {
        "id": "p2ZosduQuMR5"
      },
      "source": [
        "##**Q15**"
      ]
    },
    {
      "cell_type": "markdown",
      "metadata": {
        "id": "s_Xgguq4uQWg"
      },
      "source": [
        "\n",
        "\n",
        "```\n",
        "****************\n",
        "*******__*******\n",
        "******____******\n",
        "*****______*****\n",
        "****________****\n",
        "***__________***\n",
        "**____________**\n",
        "*______________*\n",
        "```\n",
        "\n"
      ]
    },
    {
      "cell_type": "code",
      "metadata": {
        "colab": {
          "base_uri": "https://localhost:8080/"
        },
        "id": "dZVd4b-2lm-H",
        "outputId": "b991a316-c3f8-4fd1-fb15-73b8273288cb"
      },
      "source": [
        "n=int(input())\n",
        "print(\"*\" * n, end=\"\\n\")\n",
        "i = (n // 2) - 1\n",
        "j = 2\n",
        "while i != 0:\n",
        "    while j <= (n - 2):\n",
        "        print(\"*\" * i, end=\"\")\n",
        "        print(\"_\" * j, end=\"\")\n",
        "        print(\"*\" * i, end=\"\\n\")\n",
        "        i = i - 1\n",
        "        j = j + 2"
      ],
      "execution_count": null,
      "outputs": [
        {
          "output_type": "stream",
          "text": [
            "16\n",
            "****************\n",
            "*******__*******\n",
            "******____******\n",
            "*****______*****\n",
            "****________****\n",
            "***__________***\n",
            "**____________**\n",
            "*______________*\n"
          ],
          "name": "stdout"
        }
      ]
    }
  ]
}